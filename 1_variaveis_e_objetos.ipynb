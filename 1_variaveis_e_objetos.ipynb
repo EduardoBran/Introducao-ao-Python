{
 "cells": [
  {
   "cell_type": "code",
   "execution_count": 1,
   "id": "5733e789-19a4-4138-bcca-8ee81b592af1",
   "metadata": {},
   "outputs": [
    {
     "name": "stdout",
     "output_type": "stream",
     "text": [
      "10\n"
     ]
    }
   ],
   "source": [
    "#   ***** Variáveis e Objetos *****"
   ]
  },
  {
   "cell_type": "code",
   "execution_count": 10,
   "id": "ce2ea62f-3d8a-4cc8-9dc4-d71049bf67a2",
   "metadata": {},
   "outputs": [
    {
     "name": "stdout",
     "output_type": "stream",
     "text": [
      "1\n",
      "3.13\n",
      "Python\n",
      "False\n"
     ]
    }
   ],
   "source": [
    "#Cria variável do tipo inteiro\n",
    "x = 1\n",
    "print(x)\n",
    "#Cria variável do tipo float\n",
    "y = 3.13\n",
    "print(y)\n",
    "#Cria variável do tipo string\n",
    "m = \"Python\"\n",
    "m = 'Python'\n",
    "print(m)\n",
    "#Cria variável do tipo lógica\n",
    "w = True  \n",
    "y = False\n",
    "print(y)"
   ]
  },
  {
   "cell_type": "code",
   "execution_count": 3,
   "id": "353b416b-d1c9-4bcf-93db-05830496169a",
   "metadata": {},
   "outputs": [
    {
     "name": "stdout",
     "output_type": "stream",
     "text": [
      "30.0\n"
     ]
    }
   ],
   "source": [
    "#calculadora\n",
    "x = 10\n",
    "y = 20\n",
    "z = 100\n",
    "w = (x + y) * z / 100\n",
    "print(w)"
   ]
  },
  {
   "cell_type": "code",
   "execution_count": 4,
   "id": "b5b7f54c-a6bf-48e8-bf02-7462512462e6",
   "metadata": {},
   "outputs": [
    {
     "name": "stdout",
     "output_type": "stream",
     "text": [
      "Este texto será impresso no console\n",
      "10\n",
      "Texto e duas variáveis:  10 ,  100\n"
     ]
    }
   ],
   "source": [
    "#exibir texto no console\n",
    "print(\"Este texto será impresso no console\")\n",
    "print(x)\n",
    "print(\"Texto e duas variáveis: \", x ,\", \", z)"
   ]
  },
  {
   "cell_type": "code",
   "execution_count": 5,
   "id": "876e0ed6-7d93-486a-a60c-cd478a9fff4b",
   "metadata": {},
   "outputs": [
    {
     "name": "stdout",
     "output_type": "stream",
     "text": [
      "<class 'int'>\n",
      "<class 'str'>\n"
     ]
    }
   ],
   "source": [
    "#verificar tipo\n",
    "print(type(x))\n",
    "print(type(m))"
   ]
  },
  {
   "cell_type": "code",
   "execution_count": 6,
   "id": "c470e539-2bab-47b0-a638-c16d1c3c5e79",
   "metadata": {},
   "outputs": [
    {
     "name": "stdout",
     "output_type": "stream",
     "text": [
      "Informe o valor: \n"
     ]
    },
    {
     "name": "stdin",
     "output_type": "stream",
     "text": [
      " 2\n"
     ]
    },
    {
     "name": "stdout",
     "output_type": "stream",
     "text": [
      "<class 'str'>\n"
     ]
    }
   ],
   "source": [
    "#entrada de dados\n",
    "print(\"Informe o valor: \")\n",
    "i = input()\n",
    "#mostra tipo string\n",
    "print(type(i))"
   ]
  },
  {
   "cell_type": "code",
   "execution_count": 7,
   "id": "bcab89c5-9ee3-405d-98a7-aca29f1da671",
   "metadata": {},
   "outputs": [
    {
     "name": "stdout",
     "output_type": "stream",
     "text": [
      "Informe o valor: \n"
     ]
    },
    {
     "name": "stdin",
     "output_type": "stream",
     "text": [
      " a\n",
      "Informe o valor:  2\n"
     ]
    }
   ],
   "source": [
    "#entrada de valor com msg separada e junto\n",
    "print(\"Informe o valor: \")\n",
    "i = input()\n",
    "# ou\n",
    "i = input(\"Informe o valor: \")"
   ]
  },
  {
   "cell_type": "code",
   "execution_count": null,
   "id": "b7df9f6f-4d95-4289-9105-a1e30ddaec94",
   "metadata": {},
   "outputs": [],
   "source": [
    "#conversão de valores\n",
    "#para inteiro\n",
    "var = input(\"Informe o valor: \")\n",
    "print(type(var))\n",
    "var = int(var)\n",
    "print(type(var))"
   ]
  },
  {
   "cell_type": "code",
   "execution_count": null,
   "id": "3b1225c1-14e3-4ceb-94a6-8afb6cf4f9ef",
   "metadata": {},
   "outputs": [],
   "source": [
    "#para float\n",
    "var = input(\"Informe o valor: \")\n",
    "print(type(var))\n",
    "var = float(var)\n",
    "print(type(var))"
   ]
  },
  {
   "cell_type": "code",
   "execution_count": null,
   "id": "f9b9aa99-9278-4dbc-9870-fa2ee18df6d0",
   "metadata": {},
   "outputs": [],
   "source": [
    "# Este texto é um comentário\n",
    "X = 10  # a partir daqui é um comentário"
   ]
  }
 ],
 "metadata": {
  "kernelspec": {
   "display_name": "Python 3 (ipykernel)",
   "language": "python",
   "name": "python3"
  },
  "language_info": {
   "codemirror_mode": {
    "name": "ipython",
    "version": 3
   },
   "file_extension": ".py",
   "mimetype": "text/x-python",
   "name": "python",
   "nbconvert_exporter": "python",
   "pygments_lexer": "ipython3",
   "version": "3.9.13"
  }
 },
 "nbformat": 4,
 "nbformat_minor": 5
}
